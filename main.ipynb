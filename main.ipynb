{
 "cells": [
  {
   "cell_type": "code",
   "execution_count": 1,
   "metadata": {},
   "outputs": [
    {
     "name": "stdout",
     "output_type": "stream",
     "text": [
      "Jupyter environment detected. Enabling Open3D WebVisualizer.\n",
      "[Open3D INFO] WebRTC GUI backend enabled.\n",
      "[Open3D INFO] WebRTCWindowSystem: HTTP handshake server disabled.\n"
     ]
    }
   ],
   "source": [
    "from scipy.spatial import cKDTree\n",
    "import open3d as o3d\n",
    "import numpy as np"
   ]
  },
  {
   "cell_type": "code",
   "execution_count": 2,
   "metadata": {},
   "outputs": [],
   "source": [
    "def PointCloud(filename: str):\n",
    "    pcd = o3d.io.read_point_cloud(filename, format=\"xyz\")\n",
    "    points = np.asarray(pcd.points)\n",
    "    return pcd"
   ]
  },
  {
   "cell_type": "code",
   "execution_count": 3,
   "metadata": {},
   "outputs": [],
   "source": [
    "def Mesh(filename: str):\n",
    "    mesh = o3d.io.read_triangle_mesh(filename)\n",
    "    vertices = mesh.vertices\n",
    "    return mesh"
   ]
  },
  {
   "cell_type": "code",
   "execution_count": 5,
   "metadata": {},
   "outputs": [
    {
     "name": "stdout",
     "output_type": "stream",
     "text": [
      "Максимальное расстояние между ближайшими точками двух облаков:  0.008821001822717408\n",
      "Среднее расстояние между ближайшими точками двух облаков:  0.0025450461491756515\n"
     ]
    }
   ],
   "source": [
    "mesh = Mesh(\"expamples/micophone.obj\")\n",
    "points_mesh = np.asarray(mesh.vertices)\n",
    "\n",
    "cloud = PointCloud(\"expamples/microphone.xyz\")\n",
    "points_cloud = np.asarray(cloud.points)\n",
    "\n",
    "tree = cKDTree(points_mesh)\n",
    "\n",
    "distances, indices = tree.query(points_cloud)\n",
    "\n",
    "max_distance = np.max(distances)\n",
    "average_distance = np.mean(distances)\n",
    "\n",
    "print(\"Максимальное расстояние между ближайшими точками двух облаков: \", max_distance)\n",
    "print(\"Среднее расстояние между ближайшими точками двух облаков: \", average_distance)"
   ]
  },
  {
   "cell_type": "code",
   "execution_count": null,
   "metadata": {},
   "outputs": [],
   "source": [
    "min_x = np.min(points_mesh[:,0])\n",
    "max_x = np.max(points_mesh[:,0])\n",
    "\n",
    "min_y = np.min(points_mesh[:,1])\n",
    "max_y = np.max(points_mesh[:,1])\n",
    "\n",
    "min_z = np.min(points_mesh[:,2])\n",
    "max_z = np.max(points_mesh[:,2])\n",
    "\n",
    "a = max_x - min_x\n",
    "b = max_y - min_y\n",
    "c = max_z - min_z\n",
    "\n",
    "l = (a * b * c)**(1 / 3)\n",
    "\n",
    "metric_max = max_distance / l\n",
    "metric_average = average_distance / l\n",
    "\n",
    "print(\"Метрика 1: \", metric_max)\n",
    "print(\"Метрика 2 \", metric_average)"
   ]
  },
  {
   "cell_type": "code",
   "execution_count": null,
   "metadata": {},
   "outputs": [],
   "source": [
    "o3d.visualization.draw_geometries([cloud])\n",
    "o3d.visualization.draw_geometries([mesh])"
   ]
  }
 ],
 "metadata": {
  "kernelspec": {
   "display_name": "Python 3",
   "language": "python",
   "name": "python3"
  },
  "language_info": {
   "codemirror_mode": {
    "name": "ipython",
    "version": 3
   },
   "file_extension": ".py",
   "mimetype": "text/x-python",
   "name": "python",
   "nbconvert_exporter": "python",
   "pygments_lexer": "ipython3",
   "version": "3.8.16"
  },
  "orig_nbformat": 4
 },
 "nbformat": 4,
 "nbformat_minor": 2
}
